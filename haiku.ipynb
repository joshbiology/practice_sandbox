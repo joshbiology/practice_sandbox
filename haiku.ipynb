{
  "nbformat": 4,
  "nbformat_minor": 0,
  "metadata": {
    "colab": {
      "name": "haiku.ipynb",
      "provenance": [],
      "authorship_tag": "ABX9TyNeSxM7IbmxgokNv/afEVAi",
      "include_colab_link": true
    },
    "kernelspec": {
      "name": "python3",
      "display_name": "Python 3"
    },
    "language_info": {
      "name": "python"
    }
  },
  "cells": [
    {
      "cell_type": "markdown",
      "metadata": {
        "id": "view-in-github",
        "colab_type": "text"
      },
      "source": [
        "<a href=\"https://colab.research.google.com/github/joshbiology/practice_sandbox/blob/main/haiku.ipynb\" target=\"_parent\"><img src=\"https://colab.research.google.com/assets/colab-badge.svg\" alt=\"Open In Colab\"/></a>"
      ]
    },
    {
      "cell_type": "code",
      "execution_count": 1,
      "metadata": {
        "colab": {
          "base_uri": "https://localhost:8080/"
        },
        "id": "ydVjijt225BY",
        "outputId": "f40fba21-e346-41ed-b4c5-9290863c92da"
      },
      "outputs": [
        {
          "output_type": "stream",
          "name": "stdout",
          "text": [
            "Requirement already satisfied: dm-haiku==0.0.5 in /usr/local/lib/python3.7/dist-packages (0.0.5)\n",
            "Requirement already satisfied: typing-extensions in /usr/local/lib/python3.7/dist-packages (from dm-haiku==0.0.5) (3.10.0.2)\n",
            "Requirement already satisfied: jmp>=0.0.2 in /usr/local/lib/python3.7/dist-packages (from dm-haiku==0.0.5) (0.0.2)\n",
            "Requirement already satisfied: absl-py>=0.7.1 in /usr/local/lib/python3.7/dist-packages (from dm-haiku==0.0.5) (1.0.0)\n",
            "Requirement already satisfied: tabulate>=0.8.9 in /usr/local/lib/python3.7/dist-packages (from dm-haiku==0.0.5) (0.8.9)\n",
            "Requirement already satisfied: numpy>=1.18.0 in /usr/local/lib/python3.7/dist-packages (from dm-haiku==0.0.5) (1.19.5)\n",
            "Requirement already satisfied: six in /usr/local/lib/python3.7/dist-packages (from absl-py>=0.7.1->dm-haiku==0.0.5) (1.15.0)\n"
          ]
        }
      ],
      "source": [
        "! pip install dm-haiku==0.0.5"
      ]
    },
    {
      "cell_type": "code",
      "source": [
        "!git clone https://github.com/deepmind/dm-haiku.git"
      ],
      "metadata": {
        "colab": {
          "base_uri": "https://localhost:8080/"
        },
        "id": "ejZsGCHV26I0",
        "outputId": "ba7bcd86-1762-4a0a-8e4e-5a1c741e488e"
      },
      "execution_count": 2,
      "outputs": [
        {
          "output_type": "stream",
          "name": "stdout",
          "text": [
            "fatal: destination path 'dm-haiku' already exists and is not an empty directory.\n"
          ]
        }
      ]
    },
    {
      "cell_type": "code",
      "source": [
        "!pip install -U jaxlib"
      ],
      "metadata": {
        "colab": {
          "base_uri": "https://localhost:8080/"
        },
        "id": "DRPWiRIl3k86",
        "outputId": "f10af8bc-968c-4f0c-f1ba-e38f0e31edf1"
      },
      "execution_count": 3,
      "outputs": [
        {
          "output_type": "stream",
          "name": "stdout",
          "text": [
            "Requirement already satisfied: jaxlib in /usr/local/lib/python3.7/dist-packages (0.1.71+cuda111)\n",
            "Collecting jaxlib\n",
            "  Downloading jaxlib-0.1.76-cp37-none-manylinux2010_x86_64.whl (65.1 MB)\n",
            "\u001b[K     |████████████████████████████████| 65.1 MB 83 kB/s \n",
            "\u001b[?25hRequirement already satisfied: scipy in /usr/local/lib/python3.7/dist-packages (from jaxlib) (1.4.1)\n",
            "Requirement already satisfied: numpy>=1.19 in /usr/local/lib/python3.7/dist-packages (from jaxlib) (1.19.5)\n",
            "Requirement already satisfied: absl-py in /usr/local/lib/python3.7/dist-packages (from jaxlib) (1.0.0)\n",
            "Requirement already satisfied: flatbuffers<3.0,>=1.12 in /usr/local/lib/python3.7/dist-packages (from jaxlib) (2.0)\n",
            "Requirement already satisfied: six in /usr/local/lib/python3.7/dist-packages (from absl-py->jaxlib) (1.15.0)\n",
            "Installing collected packages: jaxlib\n",
            "  Attempting uninstall: jaxlib\n",
            "    Found existing installation: jaxlib 0.1.71+cuda111\n",
            "    Uninstalling jaxlib-0.1.71+cuda111:\n",
            "      Successfully uninstalled jaxlib-0.1.71+cuda111\n",
            "Successfully installed jaxlib-0.1.76\n"
          ]
        }
      ]
    },
    {
      "cell_type": "markdown",
      "source": [
        "Testing install"
      ],
      "metadata": {
        "id": "_P7DTOCk3U8B"
      }
    },
    {
      "cell_type": "code",
      "source": [
        "!pip install -r dm-haiku/examples/requirements.txt\n"
      ],
      "metadata": {
        "colab": {
          "base_uri": "https://localhost:8080/"
        },
        "id": "q-PvhVWt3Xrh",
        "outputId": "7cbeca46-9172-4377-cadd-b5d28a0ef008"
      },
      "execution_count": 4,
      "outputs": [
        {
          "output_type": "stream",
          "name": "stdout",
          "text": [
            "Collecting git+git://github.com/deepmind/bsuite.git (from -r dm-haiku/examples/requirements.txt (line 1))\n",
            "  Cloning git://github.com/deepmind/bsuite.git to /tmp/pip-req-build-8zu6clzl\n",
            "  Running command git clone -q git://github.com/deepmind/bsuite.git /tmp/pip-req-build-8zu6clzl\n",
            "Collecting git+git://github.com/deepmind/optax.git (from -r dm-haiku/examples/requirements.txt (line 2))\n",
            "  Cloning git://github.com/deepmind/optax.git to /tmp/pip-req-build-h2k1p0c3\n",
            "  Running command git clone -q git://github.com/deepmind/optax.git /tmp/pip-req-build-h2k1p0c3\n",
            "Collecting git+git://github.com/deepmind/rlax.git (from -r dm-haiku/examples/requirements.txt (line 3))\n",
            "  Cloning git://github.com/deepmind/rlax.git to /tmp/pip-req-build-xn5tp8pv\n",
            "  Running command git clone -q git://github.com/deepmind/rlax.git /tmp/pip-req-build-xn5tp8pv\n",
            "Requirement already satisfied: dm-env>=1.2 in /usr/local/lib/python3.7/dist-packages (from -r dm-haiku/examples/requirements.txt (line 4)) (1.5)\n",
            "Requirement already satisfied: dm-tree>=0.1.1 in /usr/local/lib/python3.7/dist-packages (from -r dm-haiku/examples/requirements.txt (line 5)) (0.1.6)\n",
            "Requirement already satisfied: packaging>=20.9 in /usr/local/lib/python3.7/dist-packages (from -r dm-haiku/examples/requirements.txt (line 6)) (21.3)\n",
            "Requirement already satisfied: tensorflow-datasets>=4.2.0 in /usr/local/lib/python3.7/dist-packages (from -r dm-haiku/examples/requirements.txt (line 7)) (4.5.2)\n",
            "Requirement already satisfied: tensorflow>=2.4.0 in /usr/local/lib/python3.7/dist-packages (from -r dm-haiku/examples/requirements.txt (line 8)) (2.7.0)\n",
            "Requirement already satisfied: absl-py in /usr/local/lib/python3.7/dist-packages (from bsuite==0.3.5->-r dm-haiku/examples/requirements.txt (line 1)) (1.0.0)\n",
            "Requirement already satisfied: immutabledict in /usr/local/lib/python3.7/dist-packages (from bsuite==0.3.5->-r dm-haiku/examples/requirements.txt (line 1)) (2.2.1)\n",
            "Requirement already satisfied: matplotlib in /usr/local/lib/python3.7/dist-packages (from bsuite==0.3.5->-r dm-haiku/examples/requirements.txt (line 1)) (3.2.2)\n",
            "Requirement already satisfied: numpy in /usr/local/lib/python3.7/dist-packages (from bsuite==0.3.5->-r dm-haiku/examples/requirements.txt (line 1)) (1.19.5)\n",
            "Requirement already satisfied: pandas in /usr/local/lib/python3.7/dist-packages (from bsuite==0.3.5->-r dm-haiku/examples/requirements.txt (line 1)) (1.3.5)\n",
            "Requirement already satisfied: plotnine in /usr/local/lib/python3.7/dist-packages (from bsuite==0.3.5->-r dm-haiku/examples/requirements.txt (line 1)) (0.6.0)\n",
            "Requirement already satisfied: scipy in /usr/local/lib/python3.7/dist-packages (from bsuite==0.3.5->-r dm-haiku/examples/requirements.txt (line 1)) (1.4.1)\n",
            "Requirement already satisfied: scikit-image in /usr/local/lib/python3.7/dist-packages (from bsuite==0.3.5->-r dm-haiku/examples/requirements.txt (line 1)) (0.18.3)\n",
            "Requirement already satisfied: six in /usr/local/lib/python3.7/dist-packages (from bsuite==0.3.5->-r dm-haiku/examples/requirements.txt (line 1)) (1.15.0)\n",
            "Requirement already satisfied: termcolor in /usr/local/lib/python3.7/dist-packages (from bsuite==0.3.5->-r dm-haiku/examples/requirements.txt (line 1)) (1.1.0)\n",
            "Requirement already satisfied: chex>=0.0.4 in /usr/local/lib/python3.7/dist-packages (from optax==0.1.1->-r dm-haiku/examples/requirements.txt (line 2)) (0.1.0)\n",
            "Requirement already satisfied: jax>=0.1.55 in /usr/local/lib/python3.7/dist-packages (from optax==0.1.1->-r dm-haiku/examples/requirements.txt (line 2)) (0.2.21)\n",
            "Requirement already satisfied: jaxlib>=0.1.37 in /usr/local/lib/python3.7/dist-packages (from optax==0.1.1->-r dm-haiku/examples/requirements.txt (line 2)) (0.1.76)\n",
            "Requirement already satisfied: typing_extensions>=3.10.0 in /usr/local/lib/python3.7/dist-packages (from optax==0.1.1->-r dm-haiku/examples/requirements.txt (line 2)) (3.10.0.2)\n",
            "Requirement already satisfied: distrax>=0.0.2 in /usr/local/lib/python3.7/dist-packages (from rlax==0.1.1->-r dm-haiku/examples/requirements.txt (line 3)) (0.1.0)\n",
            "Requirement already satisfied: pyparsing!=3.0.5,>=2.0.2 in /usr/local/lib/python3.7/dist-packages (from packaging>=20.9->-r dm-haiku/examples/requirements.txt (line 6)) (3.0.7)\n",
            "Requirement already satisfied: importlib-resources in /usr/local/lib/python3.7/dist-packages (from tensorflow-datasets>=4.2.0->-r dm-haiku/examples/requirements.txt (line 7)) (5.4.0)\n",
            "Requirement already satisfied: dill in /usr/local/lib/python3.7/dist-packages (from tensorflow-datasets>=4.2.0->-r dm-haiku/examples/requirements.txt (line 7)) (0.3.4)\n",
            "Requirement already satisfied: promise in /usr/local/lib/python3.7/dist-packages (from tensorflow-datasets>=4.2.0->-r dm-haiku/examples/requirements.txt (line 7)) (2.3)\n",
            "Requirement already satisfied: requests>=2.19.0 in /usr/local/lib/python3.7/dist-packages (from tensorflow-datasets>=4.2.0->-r dm-haiku/examples/requirements.txt (line 7)) (2.23.0)\n",
            "Requirement already satisfied: tensorflow-metadata in /usr/local/lib/python3.7/dist-packages (from tensorflow-datasets>=4.2.0->-r dm-haiku/examples/requirements.txt (line 7)) (1.6.0)\n",
            "Requirement already satisfied: tqdm in /usr/local/lib/python3.7/dist-packages (from tensorflow-datasets>=4.2.0->-r dm-haiku/examples/requirements.txt (line 7)) (4.62.3)\n",
            "Requirement already satisfied: protobuf>=3.12.2 in /usr/local/lib/python3.7/dist-packages (from tensorflow-datasets>=4.2.0->-r dm-haiku/examples/requirements.txt (line 7)) (3.17.3)\n",
            "Requirement already satisfied: keras-preprocessing>=1.1.1 in /usr/local/lib/python3.7/dist-packages (from tensorflow>=2.4.0->-r dm-haiku/examples/requirements.txt (line 8)) (1.1.2)\n",
            "Requirement already satisfied: grpcio<2.0,>=1.24.3 in /usr/local/lib/python3.7/dist-packages (from tensorflow>=2.4.0->-r dm-haiku/examples/requirements.txt (line 8)) (1.43.0)\n",
            "Requirement already satisfied: h5py>=2.9.0 in /usr/local/lib/python3.7/dist-packages (from tensorflow>=2.4.0->-r dm-haiku/examples/requirements.txt (line 8)) (3.1.0)\n",
            "Requirement already satisfied: flatbuffers<3.0,>=1.12 in /usr/local/lib/python3.7/dist-packages (from tensorflow>=2.4.0->-r dm-haiku/examples/requirements.txt (line 8)) (2.0)\n",
            "Requirement already satisfied: wheel<1.0,>=0.32.0 in /usr/local/lib/python3.7/dist-packages (from tensorflow>=2.4.0->-r dm-haiku/examples/requirements.txt (line 8)) (0.37.1)\n",
            "Requirement already satisfied: wrapt>=1.11.0 in /usr/local/lib/python3.7/dist-packages (from tensorflow>=2.4.0->-r dm-haiku/examples/requirements.txt (line 8)) (1.13.3)\n",
            "Requirement already satisfied: gast<0.5.0,>=0.2.1 in /usr/local/lib/python3.7/dist-packages (from tensorflow>=2.4.0->-r dm-haiku/examples/requirements.txt (line 8)) (0.4.0)\n",
            "Requirement already satisfied: tensorflow-io-gcs-filesystem>=0.21.0 in /usr/local/lib/python3.7/dist-packages (from tensorflow>=2.4.0->-r dm-haiku/examples/requirements.txt (line 8)) (0.23.1)\n",
            "Requirement already satisfied: tensorflow-estimator<2.8,~=2.7.0rc0 in /usr/local/lib/python3.7/dist-packages (from tensorflow>=2.4.0->-r dm-haiku/examples/requirements.txt (line 8)) (2.7.0)\n",
            "Requirement already satisfied: google-pasta>=0.1.1 in /usr/local/lib/python3.7/dist-packages (from tensorflow>=2.4.0->-r dm-haiku/examples/requirements.txt (line 8)) (0.2.0)\n",
            "Requirement already satisfied: keras<2.8,>=2.7.0rc0 in /usr/local/lib/python3.7/dist-packages (from tensorflow>=2.4.0->-r dm-haiku/examples/requirements.txt (line 8)) (2.7.0)\n",
            "Requirement already satisfied: astunparse>=1.6.0 in /usr/local/lib/python3.7/dist-packages (from tensorflow>=2.4.0->-r dm-haiku/examples/requirements.txt (line 8)) (1.6.3)\n",
            "Requirement already satisfied: opt-einsum>=2.3.2 in /usr/local/lib/python3.7/dist-packages (from tensorflow>=2.4.0->-r dm-haiku/examples/requirements.txt (line 8)) (3.3.0)\n",
            "Requirement already satisfied: libclang>=9.0.1 in /usr/local/lib/python3.7/dist-packages (from tensorflow>=2.4.0->-r dm-haiku/examples/requirements.txt (line 8)) (13.0.0)\n",
            "Requirement already satisfied: tensorboard~=2.6 in /usr/local/lib/python3.7/dist-packages (from tensorflow>=2.4.0->-r dm-haiku/examples/requirements.txt (line 8)) (2.7.0)\n",
            "Requirement already satisfied: toolz>=0.9.0 in /usr/local/lib/python3.7/dist-packages (from chex>=0.0.4->optax==0.1.1->-r dm-haiku/examples/requirements.txt (line 2)) (0.11.2)\n",
            "Requirement already satisfied: tensorflow-probability>=0.14.1 in /usr/local/lib/python3.7/dist-packages (from distrax>=0.0.2->rlax==0.1.1->-r dm-haiku/examples/requirements.txt (line 3)) (0.15.0)\n",
            "Requirement already satisfied: cached-property in /usr/local/lib/python3.7/dist-packages (from h5py>=2.9.0->tensorflow>=2.4.0->-r dm-haiku/examples/requirements.txt (line 8)) (1.5.2)\n",
            "Requirement already satisfied: chardet<4,>=3.0.2 in /usr/local/lib/python3.7/dist-packages (from requests>=2.19.0->tensorflow-datasets>=4.2.0->-r dm-haiku/examples/requirements.txt (line 7)) (3.0.4)\n",
            "Requirement already satisfied: certifi>=2017.4.17 in /usr/local/lib/python3.7/dist-packages (from requests>=2.19.0->tensorflow-datasets>=4.2.0->-r dm-haiku/examples/requirements.txt (line 7)) (2021.10.8)\n",
            "Requirement already satisfied: idna<3,>=2.5 in /usr/local/lib/python3.7/dist-packages (from requests>=2.19.0->tensorflow-datasets>=4.2.0->-r dm-haiku/examples/requirements.txt (line 7)) (2.10)\n",
            "Requirement already satisfied: urllib3!=1.25.0,!=1.25.1,<1.26,>=1.21.1 in /usr/local/lib/python3.7/dist-packages (from requests>=2.19.0->tensorflow-datasets>=4.2.0->-r dm-haiku/examples/requirements.txt (line 7)) (1.24.3)\n",
            "Requirement already satisfied: google-auth<3,>=1.6.3 in /usr/local/lib/python3.7/dist-packages (from tensorboard~=2.6->tensorflow>=2.4.0->-r dm-haiku/examples/requirements.txt (line 8)) (1.35.0)\n",
            "Requirement already satisfied: tensorboard-plugin-wit>=1.6.0 in /usr/local/lib/python3.7/dist-packages (from tensorboard~=2.6->tensorflow>=2.4.0->-r dm-haiku/examples/requirements.txt (line 8)) (1.8.1)\n",
            "Requirement already satisfied: markdown>=2.6.8 in /usr/local/lib/python3.7/dist-packages (from tensorboard~=2.6->tensorflow>=2.4.0->-r dm-haiku/examples/requirements.txt (line 8)) (3.3.6)\n",
            "Requirement already satisfied: werkzeug>=0.11.15 in /usr/local/lib/python3.7/dist-packages (from tensorboard~=2.6->tensorflow>=2.4.0->-r dm-haiku/examples/requirements.txt (line 8)) (1.0.1)\n",
            "Requirement already satisfied: setuptools>=41.0.0 in /usr/local/lib/python3.7/dist-packages (from tensorboard~=2.6->tensorflow>=2.4.0->-r dm-haiku/examples/requirements.txt (line 8)) (57.4.0)\n",
            "Requirement already satisfied: google-auth-oauthlib<0.5,>=0.4.1 in /usr/local/lib/python3.7/dist-packages (from tensorboard~=2.6->tensorflow>=2.4.0->-r dm-haiku/examples/requirements.txt (line 8)) (0.4.6)\n",
            "Requirement already satisfied: tensorboard-data-server<0.7.0,>=0.6.0 in /usr/local/lib/python3.7/dist-packages (from tensorboard~=2.6->tensorflow>=2.4.0->-r dm-haiku/examples/requirements.txt (line 8)) (0.6.1)\n",
            "Requirement already satisfied: pyasn1-modules>=0.2.1 in /usr/local/lib/python3.7/dist-packages (from google-auth<3,>=1.6.3->tensorboard~=2.6->tensorflow>=2.4.0->-r dm-haiku/examples/requirements.txt (line 8)) (0.2.8)\n",
            "Requirement already satisfied: cachetools<5.0,>=2.0.0 in /usr/local/lib/python3.7/dist-packages (from google-auth<3,>=1.6.3->tensorboard~=2.6->tensorflow>=2.4.0->-r dm-haiku/examples/requirements.txt (line 8)) (4.2.4)\n",
            "Requirement already satisfied: rsa<5,>=3.1.4 in /usr/local/lib/python3.7/dist-packages (from google-auth<3,>=1.6.3->tensorboard~=2.6->tensorflow>=2.4.0->-r dm-haiku/examples/requirements.txt (line 8)) (4.8)\n",
            "Requirement already satisfied: requests-oauthlib>=0.7.0 in /usr/local/lib/python3.7/dist-packages (from google-auth-oauthlib<0.5,>=0.4.1->tensorboard~=2.6->tensorflow>=2.4.0->-r dm-haiku/examples/requirements.txt (line 8)) (1.3.0)\n",
            "Requirement already satisfied: importlib-metadata>=4.4 in /usr/local/lib/python3.7/dist-packages (from markdown>=2.6.8->tensorboard~=2.6->tensorflow>=2.4.0->-r dm-haiku/examples/requirements.txt (line 8)) (4.10.1)\n",
            "Requirement already satisfied: zipp>=0.5 in /usr/local/lib/python3.7/dist-packages (from importlib-metadata>=4.4->markdown>=2.6.8->tensorboard~=2.6->tensorflow>=2.4.0->-r dm-haiku/examples/requirements.txt (line 8)) (3.7.0)\n",
            "Requirement already satisfied: pyasn1<0.5.0,>=0.4.6 in /usr/local/lib/python3.7/dist-packages (from pyasn1-modules>=0.2.1->google-auth<3,>=1.6.3->tensorboard~=2.6->tensorflow>=2.4.0->-r dm-haiku/examples/requirements.txt (line 8)) (0.4.8)\n",
            "Requirement already satisfied: oauthlib>=3.0.0 in /usr/local/lib/python3.7/dist-packages (from requests-oauthlib>=0.7.0->google-auth-oauthlib<0.5,>=0.4.1->tensorboard~=2.6->tensorflow>=2.4.0->-r dm-haiku/examples/requirements.txt (line 8)) (3.1.1)\n",
            "Requirement already satisfied: decorator in /usr/local/lib/python3.7/dist-packages (from tensorflow-probability>=0.14.1->distrax>=0.0.2->rlax==0.1.1->-r dm-haiku/examples/requirements.txt (line 3)) (4.4.2)\n",
            "Requirement already satisfied: cloudpickle>=1.3 in /usr/local/lib/python3.7/dist-packages (from tensorflow-probability>=0.14.1->distrax>=0.0.2->rlax==0.1.1->-r dm-haiku/examples/requirements.txt (line 3)) (1.3.0)\n",
            "Requirement already satisfied: kiwisolver>=1.0.1 in /usr/local/lib/python3.7/dist-packages (from matplotlib->bsuite==0.3.5->-r dm-haiku/examples/requirements.txt (line 1)) (1.3.2)\n",
            "Requirement already satisfied: cycler>=0.10 in /usr/local/lib/python3.7/dist-packages (from matplotlib->bsuite==0.3.5->-r dm-haiku/examples/requirements.txt (line 1)) (0.11.0)\n",
            "Requirement already satisfied: python-dateutil>=2.1 in /usr/local/lib/python3.7/dist-packages (from matplotlib->bsuite==0.3.5->-r dm-haiku/examples/requirements.txt (line 1)) (2.8.2)\n",
            "Requirement already satisfied: pytz>=2017.3 in /usr/local/lib/python3.7/dist-packages (from pandas->bsuite==0.3.5->-r dm-haiku/examples/requirements.txt (line 1)) (2018.9)\n",
            "Requirement already satisfied: mizani>=0.6.0 in /usr/local/lib/python3.7/dist-packages (from plotnine->bsuite==0.3.5->-r dm-haiku/examples/requirements.txt (line 1)) (0.6.0)\n",
            "Requirement already satisfied: statsmodels>=0.9.0 in /usr/local/lib/python3.7/dist-packages (from plotnine->bsuite==0.3.5->-r dm-haiku/examples/requirements.txt (line 1)) (0.10.2)\n",
            "Requirement already satisfied: patsy>=0.4.1 in /usr/local/lib/python3.7/dist-packages (from plotnine->bsuite==0.3.5->-r dm-haiku/examples/requirements.txt (line 1)) (0.5.2)\n",
            "Requirement already satisfied: descartes>=1.1.0 in /usr/local/lib/python3.7/dist-packages (from plotnine->bsuite==0.3.5->-r dm-haiku/examples/requirements.txt (line 1)) (1.1.0)\n",
            "Requirement already satisfied: palettable in /usr/local/lib/python3.7/dist-packages (from mizani>=0.6.0->plotnine->bsuite==0.3.5->-r dm-haiku/examples/requirements.txt (line 1)) (3.3.0)\n",
            "Requirement already satisfied: tifffile>=2019.7.26 in /usr/local/lib/python3.7/dist-packages (from scikit-image->bsuite==0.3.5->-r dm-haiku/examples/requirements.txt (line 1)) (2021.11.2)\n",
            "Requirement already satisfied: pillow!=7.1.0,!=7.1.1,>=4.3.0 in /usr/local/lib/python3.7/dist-packages (from scikit-image->bsuite==0.3.5->-r dm-haiku/examples/requirements.txt (line 1)) (7.1.2)\n",
            "Requirement already satisfied: imageio>=2.3.0 in /usr/local/lib/python3.7/dist-packages (from scikit-image->bsuite==0.3.5->-r dm-haiku/examples/requirements.txt (line 1)) (2.4.1)\n",
            "Requirement already satisfied: PyWavelets>=1.1.1 in /usr/local/lib/python3.7/dist-packages (from scikit-image->bsuite==0.3.5->-r dm-haiku/examples/requirements.txt (line 1)) (1.2.0)\n",
            "Requirement already satisfied: networkx>=2.0 in /usr/local/lib/python3.7/dist-packages (from scikit-image->bsuite==0.3.5->-r dm-haiku/examples/requirements.txt (line 1)) (2.6.3)\n",
            "Requirement already satisfied: googleapis-common-protos<2,>=1.52.0 in /usr/local/lib/python3.7/dist-packages (from tensorflow-metadata->tensorflow-datasets>=4.2.0->-r dm-haiku/examples/requirements.txt (line 7)) (1.54.0)\n",
            "Building wheels for collected packages: optax\n",
            "  Building wheel for optax (setup.py) ... \u001b[?25l\u001b[?25hdone\n",
            "  Created wheel for optax: filename=optax-0.1.1-py3-none-any.whl size=136303 sha256=82112e91bfdaa45f1603a78858af044e70de2e7f3eb589ad1f81fa1e057cca68\n",
            "  Stored in directory: /tmp/pip-ephem-wheel-cache-y6vcsxoy/wheels/99/a8/ea/844576cb39aaa6929daf91bd459d92d5d2e0c52abcc31d5b8c\n",
            "Successfully built optax\n",
            "Installing collected packages: optax\n",
            "  Attempting uninstall: optax\n",
            "    Found existing installation: optax 0.1.0\n",
            "    Uninstalling optax-0.1.0:\n",
            "      Successfully uninstalled optax-0.1.0\n",
            "Successfully installed optax-0.1.1\n"
          ]
        }
      ]
    },
    {
      "cell_type": "code",
      "source": [
        "!cd dm-haiku\n",
        "!python dm-haiku/examples/mnist.py"
      ],
      "metadata": {
        "colab": {
          "base_uri": "https://localhost:8080/"
        },
        "id": "6cyDkMke33pY",
        "outputId": "fa490004-d7e0-479c-f308-2eeb4b2e35dd"
      },
      "execution_count": null,
      "outputs": [
        {
          "output_type": "stream",
          "name": "stdout",
          "text": [
            "2022-02-03 16:55:41.175555: E tensorflow/stream_executor/cuda/cuda_driver.cc:271] failed call to cuInit: CUDA_ERROR_NO_DEVICE: no CUDA-capable device is detected\n",
            "I0203 16:55:41.334890 139770533201792 dataset_info.py:524] Load pre-computed DatasetInfo (eg: splits, num examples,...) from GCS: mnist/3.0.1\n",
            "I0203 16:55:41.533514 139770533201792 dataset_info.py:439] Load dataset info from /tmp/tmpfa6so9kztfds\n",
            "I0203 16:55:41.536931 139770533201792 dataset_info.py:494] Field info.citation from disk and from code do not match. Keeping the one from code.\n",
            "I0203 16:55:41.537271 139770533201792 dataset_info.py:494] Field info.splits from disk and from code do not match. Keeping the one from code.\n",
            "I0203 16:55:41.537448 139770533201792 dataset_info.py:494] Field info.supervised_keys from disk and from code do not match. Keeping the one from code.\n",
            "I0203 16:55:41.537525 139770533201792 dataset_info.py:494] Field info.module_name from disk and from code do not match. Keeping the one from code.\n",
            "I0203 16:55:41.537939 139770533201792 dataset_builder.py:423] Generating dataset mnist (/root/tensorflow_datasets/mnist/3.0.1)\n",
            "\u001b[1mDownloading and preparing dataset 11.06 MiB (download: 11.06 MiB, generated: 21.00 MiB, total: 32.06 MiB) to /root/tensorflow_datasets/mnist/3.0.1...\u001b[0m\n",
            "I0203 16:55:41.925396 139770533201792 dataset_builder.py:456] Dataset mnist is hosted on GCS. It will automatically be downloaded to your\n",
            "local data directory. If you'd instead prefer to read directly from our public\n",
            "GCS bucket (recommended if you're running on GCP), you can instead pass\n",
            "`try_gcs=True` to `tfds.load` or set `data_dir=gs://tfds-data/datasets`.\n",
            "\n",
            "Dl Completed...: 100% 4/4 [00:00<00:00,  7.37 file/s]\n",
            "I0203 16:55:42.542531 139770533201792 dataset_info.py:439] Load dataset info from /root/tensorflow_datasets/mnist/3.0.1.incompleteIFQL92\n",
            "I0203 16:55:42.546176 139770533201792 dataset_info.py:494] Field info.citation from disk and from code do not match. Keeping the one from code.\n",
            "I0203 16:55:42.546507 139770533201792 dataset_info.py:494] Field info.splits from disk and from code do not match. Keeping the one from code.\n",
            "I0203 16:55:42.546619 139770533201792 dataset_info.py:494] Field info.supervised_keys from disk and from code do not match. Keeping the one from code.\n",
            "I0203 16:55:42.546734 139770533201792 dataset_info.py:494] Field info.module_name from disk and from code do not match. Keeping the one from code.\n",
            "I0203 16:55:42.546829 139770533201792 dataset_info.py:494] Field info.file_format from disk and from code do not match. Keeping the one from code.\n",
            "\u001b[1mDataset mnist downloaded and prepared to /root/tensorflow_datasets/mnist/3.0.1. Subsequent calls will reuse this data.\u001b[0m\n",
            "I0203 16:55:42.547341 139770533201792 logging_logger.py:45] Constructing tf.data.Dataset mnist for split train, from /root/tensorflow_datasets/mnist/3.0.1\n",
            "I0203 16:55:42.794958 139770533201792 dataset_info.py:439] Load dataset info from /root/tensorflow_datasets/mnist/3.0.1\n",
            "I0203 16:55:42.798443 139770533201792 dataset_info.py:494] Field info.citation from disk and from code do not match. Keeping the one from code.\n",
            "I0203 16:55:42.798985 139770533201792 dataset_info.py:494] Field info.splits from disk and from code do not match. Keeping the one from code.\n",
            "I0203 16:55:42.799189 139770533201792 dataset_info.py:494] Field info.supervised_keys from disk and from code do not match. Keeping the one from code.\n",
            "I0203 16:55:42.799321 139770533201792 dataset_info.py:494] Field info.module_name from disk and from code do not match. Keeping the one from code.\n",
            "I0203 16:55:42.799611 139770533201792 dataset_builder.py:369] Reusing dataset mnist (/root/tensorflow_datasets/mnist/3.0.1)\n",
            "I0203 16:55:42.799799 139770533201792 logging_logger.py:45] Constructing tf.data.Dataset mnist for split train, from /root/tensorflow_datasets/mnist/3.0.1\n",
            "I0203 16:55:42.866178 139770533201792 dataset_info.py:439] Load dataset info from /root/tensorflow_datasets/mnist/3.0.1\n",
            "I0203 16:55:42.868765 139770533201792 dataset_info.py:494] Field info.citation from disk and from code do not match. Keeping the one from code.\n",
            "I0203 16:55:42.869055 139770533201792 dataset_info.py:494] Field info.splits from disk and from code do not match. Keeping the one from code.\n",
            "I0203 16:55:42.869182 139770533201792 dataset_info.py:494] Field info.supervised_keys from disk and from code do not match. Keeping the one from code.\n",
            "I0203 16:55:42.869304 139770533201792 dataset_info.py:494] Field info.module_name from disk and from code do not match. Keeping the one from code.\n",
            "I0203 16:55:42.869524 139770533201792 dataset_builder.py:369] Reusing dataset mnist (/root/tensorflow_datasets/mnist/3.0.1)\n",
            "I0203 16:55:42.869705 139770533201792 logging_logger.py:45] Constructing tf.data.Dataset mnist for split test, from /root/tensorflow_datasets/mnist/3.0.1\n",
            "I0203 16:55:42.934328 139770533201792 xla_bridge.py:226] Unable to initialize backend 'tpu_driver': NOT_FOUND: Unable to find driver in registry given worker: \n",
            "I0203 16:55:42.935104 139770533201792 xla_bridge.py:226] Unable to initialize backend 'gpu': NOT_FOUND: Could not find registered platform with name: \"cuda\". Available platform names are: Interpreter Host\n",
            "I0203 16:55:42.935756 139770533201792 xla_bridge.py:226] Unable to initialize backend 'tpu': INVALID_ARGUMENT: TpuPlatform is not available.\n",
            "W0203 16:55:42.935925 139770533201792 xla_bridge.py:230] No GPU/TPU found, falling back to CPU. (Set TF_CPP_MIN_LOG_LEVEL=0 and rerun for more info.)\n",
            "[Step 0] Train / Test accuracy: 0.129 / 0.132.\n",
            "[Step 1000] Train / Test accuracy: 0.978 / 0.969.\n"
          ]
        }
      ]
    },
    {
      "cell_type": "code",
      "source": [
        ""
      ],
      "metadata": {
        "id": "j65Jx2cL4PTo"
      },
      "execution_count": null,
      "outputs": []
    }
  ]
}