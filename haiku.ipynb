{
  "nbformat": 4,
  "nbformat_minor": 0,
  "metadata": {
    "colab": {
      "name": "haiku.ipynb",
      "provenance": [],
      "collapsed_sections": [],
      "authorship_tag": "ABX9TyNzyF7PmGaW8jTq8J3txFuQ",
      "include_colab_link": true
    },
    "kernelspec": {
      "name": "python3",
      "display_name": "Python 3"
    },
    "language_info": {
      "name": "python"
    }
  },
  "cells": [
    {
      "cell_type": "markdown",
      "metadata": {
        "id": "view-in-github",
        "colab_type": "text"
      },
      "source": [
        "<a href=\"https://colab.research.google.com/github/joshbiology/practice_sandbox/blob/main/haiku.ipynb\" target=\"_parent\"><img src=\"https://colab.research.google.com/assets/colab-badge.svg\" alt=\"Open In Colab\"/></a>"
      ]
    },
    {
      "cell_type": "code",
      "execution_count": 1,
      "metadata": {
        "colab": {
          "base_uri": "https://localhost:8080/"
        },
        "id": "ydVjijt225BY",
        "outputId": "5b9e82e3-674b-4f78-bbce-950de6f80fd5"
      },
      "outputs": [
        {
          "output_type": "stream",
          "name": "stdout",
          "text": [
            "Collecting dm-haiku==0.0.5\n",
            "  Downloading dm_haiku-0.0.5-py3-none-any.whl (287 kB)\n",
            "\u001b[?25l\r\u001b[K     |█▏                              | 10 kB 18.2 MB/s eta 0:00:01\r\u001b[K     |██▎                             | 20 kB 8.7 MB/s eta 0:00:01\r\u001b[K     |███▍                            | 30 kB 7.2 MB/s eta 0:00:01\r\u001b[K     |████▋                           | 40 kB 6.6 MB/s eta 0:00:01\r\u001b[K     |█████▊                          | 51 kB 5.4 MB/s eta 0:00:01\r\u001b[K     |██████▉                         | 61 kB 5.4 MB/s eta 0:00:01\r\u001b[K     |████████                        | 71 kB 5.0 MB/s eta 0:00:01\r\u001b[K     |█████████▏                      | 81 kB 5.6 MB/s eta 0:00:01\r\u001b[K     |██████████▎                     | 92 kB 4.7 MB/s eta 0:00:01\r\u001b[K     |███████████▍                    | 102 kB 5.2 MB/s eta 0:00:01\r\u001b[K     |████████████▌                   | 112 kB 5.2 MB/s eta 0:00:01\r\u001b[K     |█████████████▊                  | 122 kB 5.2 MB/s eta 0:00:01\r\u001b[K     |██████████████▉                 | 133 kB 5.2 MB/s eta 0:00:01\r\u001b[K     |████████████████                | 143 kB 5.2 MB/s eta 0:00:01\r\u001b[K     |█████████████████               | 153 kB 5.2 MB/s eta 0:00:01\r\u001b[K     |██████████████████▎             | 163 kB 5.2 MB/s eta 0:00:01\r\u001b[K     |███████████████████▍            | 174 kB 5.2 MB/s eta 0:00:01\r\u001b[K     |████████████████████▌           | 184 kB 5.2 MB/s eta 0:00:01\r\u001b[K     |█████████████████████▊          | 194 kB 5.2 MB/s eta 0:00:01\r\u001b[K     |██████████████████████▉         | 204 kB 5.2 MB/s eta 0:00:01\r\u001b[K     |████████████████████████        | 215 kB 5.2 MB/s eta 0:00:01\r\u001b[K     |█████████████████████████       | 225 kB 5.2 MB/s eta 0:00:01\r\u001b[K     |██████████████████████████▎     | 235 kB 5.2 MB/s eta 0:00:01\r\u001b[K     |███████████████████████████▍    | 245 kB 5.2 MB/s eta 0:00:01\r\u001b[K     |████████████████████████████▌   | 256 kB 5.2 MB/s eta 0:00:01\r\u001b[K     |█████████████████████████████▋  | 266 kB 5.2 MB/s eta 0:00:01\r\u001b[K     |██████████████████████████████▉ | 276 kB 5.2 MB/s eta 0:00:01\r\u001b[K     |████████████████████████████████| 286 kB 5.2 MB/s eta 0:00:01\r\u001b[K     |████████████████████████████████| 287 kB 5.2 MB/s \n",
            "\u001b[?25hRequirement already satisfied: tabulate>=0.8.9 in /usr/local/lib/python3.7/dist-packages (from dm-haiku==0.0.5) (0.8.9)\n",
            "Collecting jmp>=0.0.2\n",
            "  Downloading jmp-0.0.2-py3-none-any.whl (16 kB)\n",
            "Requirement already satisfied: numpy>=1.18.0 in /usr/local/lib/python3.7/dist-packages (from dm-haiku==0.0.5) (1.19.5)\n",
            "Requirement already satisfied: absl-py>=0.7.1 in /usr/local/lib/python3.7/dist-packages (from dm-haiku==0.0.5) (1.0.0)\n",
            "Requirement already satisfied: typing-extensions in /usr/local/lib/python3.7/dist-packages (from dm-haiku==0.0.5) (3.10.0.2)\n",
            "Requirement already satisfied: six in /usr/local/lib/python3.7/dist-packages (from absl-py>=0.7.1->dm-haiku==0.0.5) (1.15.0)\n",
            "Installing collected packages: jmp, dm-haiku\n",
            "Successfully installed dm-haiku-0.0.5 jmp-0.0.2\n"
          ]
        }
      ],
      "source": [
        "! pip install dm-haiku==0.0.5"
      ]
    },
    {
      "cell_type": "code",
      "source": [
        "!git clone https://github.com/deepmind/dm-haiku.git"
      ],
      "metadata": {
        "colab": {
          "base_uri": "https://localhost:8080/"
        },
        "id": "ejZsGCHV26I0",
        "outputId": "17799cb2-b8e0-474a-8a1f-f43d1e6c5733"
      },
      "execution_count": 2,
      "outputs": [
        {
          "output_type": "stream",
          "name": "stdout",
          "text": [
            "Cloning into 'dm-haiku'...\n",
            "remote: Enumerating objects: 4705, done.\u001b[K\n",
            "remote: Counting objects: 100% (602/602), done.\u001b[K\n",
            "remote: Compressing objects: 100% (243/243), done.\u001b[K\n",
            "remote: Total 4705 (delta 400), reused 423 (delta 356), pack-reused 4103\u001b[K\n",
            "Receiving objects: 100% (4705/4705), 1.52 MiB | 11.18 MiB/s, done.\n",
            "Resolving deltas: 100% (3586/3586), done.\n"
          ]
        }
      ]
    },
    {
      "cell_type": "code",
      "source": [
        "!pip install -U jaxlib"
      ],
      "metadata": {
        "colab": {
          "base_uri": "https://localhost:8080/"
        },
        "id": "DRPWiRIl3k86",
        "outputId": "e9875913-c701-4f5d-83c2-ad3a7aa983c6"
      },
      "execution_count": 3,
      "outputs": [
        {
          "output_type": "stream",
          "name": "stdout",
          "text": [
            "Requirement already satisfied: jaxlib in /usr/local/lib/python3.7/dist-packages (0.1.71+cuda111)\n",
            "Collecting jaxlib\n",
            "  Downloading jaxlib-0.1.76-cp37-none-manylinux2010_x86_64.whl (65.1 MB)\n",
            "\u001b[K     |████████████████████████████████| 65.1 MB 92 kB/s \n",
            "\u001b[?25hRequirement already satisfied: scipy in /usr/local/lib/python3.7/dist-packages (from jaxlib) (1.4.1)\n",
            "Requirement already satisfied: flatbuffers<3.0,>=1.12 in /usr/local/lib/python3.7/dist-packages (from jaxlib) (2.0)\n",
            "Requirement already satisfied: numpy>=1.19 in /usr/local/lib/python3.7/dist-packages (from jaxlib) (1.19.5)\n",
            "Requirement already satisfied: absl-py in /usr/local/lib/python3.7/dist-packages (from jaxlib) (1.0.0)\n",
            "Requirement already satisfied: six in /usr/local/lib/python3.7/dist-packages (from absl-py->jaxlib) (1.15.0)\n",
            "Installing collected packages: jaxlib\n",
            "  Attempting uninstall: jaxlib\n",
            "    Found existing installation: jaxlib 0.1.71+cuda111\n",
            "    Uninstalling jaxlib-0.1.71+cuda111:\n",
            "      Successfully uninstalled jaxlib-0.1.71+cuda111\n",
            "Successfully installed jaxlib-0.1.76\n"
          ]
        }
      ]
    },
    {
      "cell_type": "markdown",
      "source": [
        "Testing install"
      ],
      "metadata": {
        "id": "_P7DTOCk3U8B"
      }
    },
    {
      "cell_type": "code",
      "source": [
        "!pip install -r dm-haiku/examples/requirements.txt\n"
      ],
      "metadata": {
        "colab": {
          "base_uri": "https://localhost:8080/"
        },
        "id": "q-PvhVWt3Xrh",
        "outputId": "f9f0e406-00cb-4b7c-f5a9-ef661b6c3b25"
      },
      "execution_count": 4,
      "outputs": [
        {
          "output_type": "stream",
          "name": "stdout",
          "text": [
            "Collecting git+git://github.com/deepmind/bsuite.git (from -r dm-haiku/examples/requirements.txt (line 1))\n",
            "  Cloning git://github.com/deepmind/bsuite.git to /tmp/pip-req-build-_f6fdu83\n",
            "  Running command git clone -q git://github.com/deepmind/bsuite.git /tmp/pip-req-build-_f6fdu83\n",
            "Collecting git+git://github.com/deepmind/optax.git (from -r dm-haiku/examples/requirements.txt (line 2))\n",
            "  Cloning git://github.com/deepmind/optax.git to /tmp/pip-req-build-x0yuriib\n",
            "  Running command git clone -q git://github.com/deepmind/optax.git /tmp/pip-req-build-x0yuriib\n",
            "Collecting git+git://github.com/deepmind/rlax.git (from -r dm-haiku/examples/requirements.txt (line 3))\n",
            "  Cloning git://github.com/deepmind/rlax.git to /tmp/pip-req-build-9pr29v6w\n",
            "  Running command git clone -q git://github.com/deepmind/rlax.git /tmp/pip-req-build-9pr29v6w\n",
            "Collecting dm-env>=1.2\n",
            "  Downloading dm_env-1.5-py3-none-any.whl (26 kB)\n",
            "Requirement already satisfied: dm-tree>=0.1.1 in /usr/local/lib/python3.7/dist-packages (from -r dm-haiku/examples/requirements.txt (line 5)) (0.1.6)\n",
            "Requirement already satisfied: packaging>=20.9 in /usr/local/lib/python3.7/dist-packages (from -r dm-haiku/examples/requirements.txt (line 6)) (21.3)\n",
            "Collecting tensorflow-datasets>=4.2.0\n",
            "  Downloading tensorflow_datasets-4.5.2-py3-none-any.whl (4.2 MB)\n",
            "\u001b[K     |████████████████████████████████| 4.2 MB 7.9 MB/s \n",
            "\u001b[?25hRequirement already satisfied: tensorflow>=2.4.0 in /usr/local/lib/python3.7/dist-packages (from -r dm-haiku/examples/requirements.txt (line 8)) (2.7.0)\n",
            "Requirement already satisfied: absl-py in /usr/local/lib/python3.7/dist-packages (from bsuite==0.3.5->-r dm-haiku/examples/requirements.txt (line 1)) (1.0.0)\n",
            "Collecting immutabledict\n",
            "  Downloading immutabledict-2.2.1-py3-none-any.whl (4.0 kB)\n",
            "Requirement already satisfied: matplotlib in /usr/local/lib/python3.7/dist-packages (from bsuite==0.3.5->-r dm-haiku/examples/requirements.txt (line 1)) (3.2.2)\n",
            "Requirement already satisfied: numpy in /usr/local/lib/python3.7/dist-packages (from bsuite==0.3.5->-r dm-haiku/examples/requirements.txt (line 1)) (1.19.5)\n",
            "Requirement already satisfied: pandas in /usr/local/lib/python3.7/dist-packages (from bsuite==0.3.5->-r dm-haiku/examples/requirements.txt (line 1)) (1.3.5)\n",
            "Requirement already satisfied: plotnine in /usr/local/lib/python3.7/dist-packages (from bsuite==0.3.5->-r dm-haiku/examples/requirements.txt (line 1)) (0.6.0)\n",
            "Requirement already satisfied: scipy in /usr/local/lib/python3.7/dist-packages (from bsuite==0.3.5->-r dm-haiku/examples/requirements.txt (line 1)) (1.4.1)\n",
            "Requirement already satisfied: scikit-image in /usr/local/lib/python3.7/dist-packages (from bsuite==0.3.5->-r dm-haiku/examples/requirements.txt (line 1)) (0.18.3)\n",
            "Requirement already satisfied: six in /usr/local/lib/python3.7/dist-packages (from bsuite==0.3.5->-r dm-haiku/examples/requirements.txt (line 1)) (1.15.0)\n",
            "Requirement already satisfied: termcolor in /usr/local/lib/python3.7/dist-packages (from bsuite==0.3.5->-r dm-haiku/examples/requirements.txt (line 1)) (1.1.0)\n",
            "Collecting chex>=0.0.4\n",
            "  Downloading chex-0.1.0-py3-none-any.whl (65 kB)\n",
            "\u001b[K     |████████████████████████████████| 65 kB 3.5 MB/s \n",
            "\u001b[?25hRequirement already satisfied: jax>=0.1.55 in /usr/local/lib/python3.7/dist-packages (from optax==0.1.1->-r dm-haiku/examples/requirements.txt (line 2)) (0.2.25)\n",
            "Requirement already satisfied: jaxlib>=0.1.37 in /usr/local/lib/python3.7/dist-packages (from optax==0.1.1->-r dm-haiku/examples/requirements.txt (line 2)) (0.1.76)\n",
            "Requirement already satisfied: typing_extensions>=3.10.0 in /usr/local/lib/python3.7/dist-packages (from optax==0.1.1->-r dm-haiku/examples/requirements.txt (line 2)) (3.10.0.2)\n",
            "Collecting distrax>=0.0.2\n",
            "  Downloading distrax-0.1.0-py3-none-any.whl (221 kB)\n",
            "\u001b[K     |████████████████████████████████| 221 kB 67.5 MB/s \n",
            "\u001b[?25hRequirement already satisfied: pyparsing!=3.0.5,>=2.0.2 in /usr/local/lib/python3.7/dist-packages (from packaging>=20.9->-r dm-haiku/examples/requirements.txt (line 6)) (3.0.7)\n",
            "Requirement already satisfied: requests>=2.19.0 in /usr/local/lib/python3.7/dist-packages (from tensorflow-datasets>=4.2.0->-r dm-haiku/examples/requirements.txt (line 7)) (2.23.0)\n",
            "Requirement already satisfied: tensorflow-metadata in /usr/local/lib/python3.7/dist-packages (from tensorflow-datasets>=4.2.0->-r dm-haiku/examples/requirements.txt (line 7)) (1.6.0)\n",
            "Requirement already satisfied: tqdm in /usr/local/lib/python3.7/dist-packages (from tensorflow-datasets>=4.2.0->-r dm-haiku/examples/requirements.txt (line 7)) (4.62.3)\n",
            "Requirement already satisfied: importlib-resources in /usr/local/lib/python3.7/dist-packages (from tensorflow-datasets>=4.2.0->-r dm-haiku/examples/requirements.txt (line 7)) (5.4.0)\n",
            "Requirement already satisfied: promise in /usr/local/lib/python3.7/dist-packages (from tensorflow-datasets>=4.2.0->-r dm-haiku/examples/requirements.txt (line 7)) (2.3)\n",
            "Requirement already satisfied: dill in /usr/local/lib/python3.7/dist-packages (from tensorflow-datasets>=4.2.0->-r dm-haiku/examples/requirements.txt (line 7)) (0.3.4)\n",
            "Requirement already satisfied: protobuf>=3.12.2 in /usr/local/lib/python3.7/dist-packages (from tensorflow-datasets>=4.2.0->-r dm-haiku/examples/requirements.txt (line 7)) (3.17.3)\n",
            "Requirement already satisfied: keras-preprocessing>=1.1.1 in /usr/local/lib/python3.7/dist-packages (from tensorflow>=2.4.0->-r dm-haiku/examples/requirements.txt (line 8)) (1.1.2)\n",
            "Requirement already satisfied: gast<0.5.0,>=0.2.1 in /usr/local/lib/python3.7/dist-packages (from tensorflow>=2.4.0->-r dm-haiku/examples/requirements.txt (line 8)) (0.4.0)\n",
            "Requirement already satisfied: tensorflow-estimator<2.8,~=2.7.0rc0 in /usr/local/lib/python3.7/dist-packages (from tensorflow>=2.4.0->-r dm-haiku/examples/requirements.txt (line 8)) (2.7.0)\n",
            "Requirement already satisfied: grpcio<2.0,>=1.24.3 in /usr/local/lib/python3.7/dist-packages (from tensorflow>=2.4.0->-r dm-haiku/examples/requirements.txt (line 8)) (1.43.0)\n",
            "Requirement already satisfied: google-pasta>=0.1.1 in /usr/local/lib/python3.7/dist-packages (from tensorflow>=2.4.0->-r dm-haiku/examples/requirements.txt (line 8)) (0.2.0)\n",
            "Requirement already satisfied: wrapt>=1.11.0 in /usr/local/lib/python3.7/dist-packages (from tensorflow>=2.4.0->-r dm-haiku/examples/requirements.txt (line 8)) (1.13.3)\n",
            "Requirement already satisfied: wheel<1.0,>=0.32.0 in /usr/local/lib/python3.7/dist-packages (from tensorflow>=2.4.0->-r dm-haiku/examples/requirements.txt (line 8)) (0.37.1)\n",
            "Requirement already satisfied: astunparse>=1.6.0 in /usr/local/lib/python3.7/dist-packages (from tensorflow>=2.4.0->-r dm-haiku/examples/requirements.txt (line 8)) (1.6.3)\n",
            "Requirement already satisfied: tensorflow-io-gcs-filesystem>=0.21.0 in /usr/local/lib/python3.7/dist-packages (from tensorflow>=2.4.0->-r dm-haiku/examples/requirements.txt (line 8)) (0.23.1)\n",
            "Requirement already satisfied: flatbuffers<3.0,>=1.12 in /usr/local/lib/python3.7/dist-packages (from tensorflow>=2.4.0->-r dm-haiku/examples/requirements.txt (line 8)) (2.0)\n",
            "Requirement already satisfied: libclang>=9.0.1 in /usr/local/lib/python3.7/dist-packages (from tensorflow>=2.4.0->-r dm-haiku/examples/requirements.txt (line 8)) (13.0.0)\n",
            "Requirement already satisfied: h5py>=2.9.0 in /usr/local/lib/python3.7/dist-packages (from tensorflow>=2.4.0->-r dm-haiku/examples/requirements.txt (line 8)) (3.1.0)\n",
            "Requirement already satisfied: tensorboard~=2.6 in /usr/local/lib/python3.7/dist-packages (from tensorflow>=2.4.0->-r dm-haiku/examples/requirements.txt (line 8)) (2.7.0)\n",
            "Requirement already satisfied: keras<2.8,>=2.7.0rc0 in /usr/local/lib/python3.7/dist-packages (from tensorflow>=2.4.0->-r dm-haiku/examples/requirements.txt (line 8)) (2.7.0)\n",
            "Requirement already satisfied: opt-einsum>=2.3.2 in /usr/local/lib/python3.7/dist-packages (from tensorflow>=2.4.0->-r dm-haiku/examples/requirements.txt (line 8)) (3.3.0)\n",
            "Requirement already satisfied: toolz>=0.9.0 in /usr/local/lib/python3.7/dist-packages (from chex>=0.0.4->optax==0.1.1->-r dm-haiku/examples/requirements.txt (line 2)) (0.11.2)\n",
            "Requirement already satisfied: tensorflow-probability>=0.14.1 in /usr/local/lib/python3.7/dist-packages (from distrax>=0.0.2->rlax==0.1.1->-r dm-haiku/examples/requirements.txt (line 3)) (0.15.0)\n",
            "Collecting jax>=0.1.55\n",
            "  Downloading jax-0.2.21.tar.gz (756 kB)\n",
            "\u001b[K     |████████████████████████████████| 756 kB 49.1 MB/s \n",
            "\u001b[?25hRequirement already satisfied: cached-property in /usr/local/lib/python3.7/dist-packages (from h5py>=2.9.0->tensorflow>=2.4.0->-r dm-haiku/examples/requirements.txt (line 8)) (1.5.2)\n",
            "Requirement already satisfied: certifi>=2017.4.17 in /usr/local/lib/python3.7/dist-packages (from requests>=2.19.0->tensorflow-datasets>=4.2.0->-r dm-haiku/examples/requirements.txt (line 7)) (2021.10.8)\n",
            "Requirement already satisfied: urllib3!=1.25.0,!=1.25.1,<1.26,>=1.21.1 in /usr/local/lib/python3.7/dist-packages (from requests>=2.19.0->tensorflow-datasets>=4.2.0->-r dm-haiku/examples/requirements.txt (line 7)) (1.24.3)\n",
            "Requirement already satisfied: chardet<4,>=3.0.2 in /usr/local/lib/python3.7/dist-packages (from requests>=2.19.0->tensorflow-datasets>=4.2.0->-r dm-haiku/examples/requirements.txt (line 7)) (3.0.4)\n",
            "Requirement already satisfied: idna<3,>=2.5 in /usr/local/lib/python3.7/dist-packages (from requests>=2.19.0->tensorflow-datasets>=4.2.0->-r dm-haiku/examples/requirements.txt (line 7)) (2.10)\n",
            "Requirement already satisfied: google-auth-oauthlib<0.5,>=0.4.1 in /usr/local/lib/python3.7/dist-packages (from tensorboard~=2.6->tensorflow>=2.4.0->-r dm-haiku/examples/requirements.txt (line 8)) (0.4.6)\n",
            "Requirement already satisfied: google-auth<3,>=1.6.3 in /usr/local/lib/python3.7/dist-packages (from tensorboard~=2.6->tensorflow>=2.4.0->-r dm-haiku/examples/requirements.txt (line 8)) (1.35.0)\n",
            "Requirement already satisfied: tensorboard-plugin-wit>=1.6.0 in /usr/local/lib/python3.7/dist-packages (from tensorboard~=2.6->tensorflow>=2.4.0->-r dm-haiku/examples/requirements.txt (line 8)) (1.8.1)\n",
            "Requirement already satisfied: werkzeug>=0.11.15 in /usr/local/lib/python3.7/dist-packages (from tensorboard~=2.6->tensorflow>=2.4.0->-r dm-haiku/examples/requirements.txt (line 8)) (1.0.1)\n",
            "Requirement already satisfied: tensorboard-data-server<0.7.0,>=0.6.0 in /usr/local/lib/python3.7/dist-packages (from tensorboard~=2.6->tensorflow>=2.4.0->-r dm-haiku/examples/requirements.txt (line 8)) (0.6.1)\n",
            "Requirement already satisfied: setuptools>=41.0.0 in /usr/local/lib/python3.7/dist-packages (from tensorboard~=2.6->tensorflow>=2.4.0->-r dm-haiku/examples/requirements.txt (line 8)) (57.4.0)\n",
            "Requirement already satisfied: markdown>=2.6.8 in /usr/local/lib/python3.7/dist-packages (from tensorboard~=2.6->tensorflow>=2.4.0->-r dm-haiku/examples/requirements.txt (line 8)) (3.3.6)\n",
            "Requirement already satisfied: pyasn1-modules>=0.2.1 in /usr/local/lib/python3.7/dist-packages (from google-auth<3,>=1.6.3->tensorboard~=2.6->tensorflow>=2.4.0->-r dm-haiku/examples/requirements.txt (line 8)) (0.2.8)\n",
            "Requirement already satisfied: rsa<5,>=3.1.4 in /usr/local/lib/python3.7/dist-packages (from google-auth<3,>=1.6.3->tensorboard~=2.6->tensorflow>=2.4.0->-r dm-haiku/examples/requirements.txt (line 8)) (4.8)\n",
            "Requirement already satisfied: cachetools<5.0,>=2.0.0 in /usr/local/lib/python3.7/dist-packages (from google-auth<3,>=1.6.3->tensorboard~=2.6->tensorflow>=2.4.0->-r dm-haiku/examples/requirements.txt (line 8)) (4.2.4)\n",
            "Requirement already satisfied: requests-oauthlib>=0.7.0 in /usr/local/lib/python3.7/dist-packages (from google-auth-oauthlib<0.5,>=0.4.1->tensorboard~=2.6->tensorflow>=2.4.0->-r dm-haiku/examples/requirements.txt (line 8)) (1.3.0)\n",
            "Requirement already satisfied: importlib-metadata>=4.4 in /usr/local/lib/python3.7/dist-packages (from markdown>=2.6.8->tensorboard~=2.6->tensorflow>=2.4.0->-r dm-haiku/examples/requirements.txt (line 8)) (4.10.1)\n",
            "Requirement already satisfied: zipp>=0.5 in /usr/local/lib/python3.7/dist-packages (from importlib-metadata>=4.4->markdown>=2.6.8->tensorboard~=2.6->tensorflow>=2.4.0->-r dm-haiku/examples/requirements.txt (line 8)) (3.7.0)\n",
            "Requirement already satisfied: pyasn1<0.5.0,>=0.4.6 in /usr/local/lib/python3.7/dist-packages (from pyasn1-modules>=0.2.1->google-auth<3,>=1.6.3->tensorboard~=2.6->tensorflow>=2.4.0->-r dm-haiku/examples/requirements.txt (line 8)) (0.4.8)\n",
            "Requirement already satisfied: oauthlib>=3.0.0 in /usr/local/lib/python3.7/dist-packages (from requests-oauthlib>=0.7.0->google-auth-oauthlib<0.5,>=0.4.1->tensorboard~=2.6->tensorflow>=2.4.0->-r dm-haiku/examples/requirements.txt (line 8)) (3.1.1)\n",
            "Requirement already satisfied: cloudpickle>=1.3 in /usr/local/lib/python3.7/dist-packages (from tensorflow-probability>=0.14.1->distrax>=0.0.2->rlax==0.1.1->-r dm-haiku/examples/requirements.txt (line 3)) (1.3.0)\n",
            "Requirement already satisfied: decorator in /usr/local/lib/python3.7/dist-packages (from tensorflow-probability>=0.14.1->distrax>=0.0.2->rlax==0.1.1->-r dm-haiku/examples/requirements.txt (line 3)) (4.4.2)\n",
            "Requirement already satisfied: kiwisolver>=1.0.1 in /usr/local/lib/python3.7/dist-packages (from matplotlib->bsuite==0.3.5->-r dm-haiku/examples/requirements.txt (line 1)) (1.3.2)\n",
            "Requirement already satisfied: cycler>=0.10 in /usr/local/lib/python3.7/dist-packages (from matplotlib->bsuite==0.3.5->-r dm-haiku/examples/requirements.txt (line 1)) (0.11.0)\n",
            "Requirement already satisfied: python-dateutil>=2.1 in /usr/local/lib/python3.7/dist-packages (from matplotlib->bsuite==0.3.5->-r dm-haiku/examples/requirements.txt (line 1)) (2.8.2)\n",
            "Requirement already satisfied: pytz>=2017.3 in /usr/local/lib/python3.7/dist-packages (from pandas->bsuite==0.3.5->-r dm-haiku/examples/requirements.txt (line 1)) (2018.9)\n",
            "Requirement already satisfied: mizani>=0.6.0 in /usr/local/lib/python3.7/dist-packages (from plotnine->bsuite==0.3.5->-r dm-haiku/examples/requirements.txt (line 1)) (0.6.0)\n",
            "Requirement already satisfied: descartes>=1.1.0 in /usr/local/lib/python3.7/dist-packages (from plotnine->bsuite==0.3.5->-r dm-haiku/examples/requirements.txt (line 1)) (1.1.0)\n",
            "Requirement already satisfied: statsmodels>=0.9.0 in /usr/local/lib/python3.7/dist-packages (from plotnine->bsuite==0.3.5->-r dm-haiku/examples/requirements.txt (line 1)) (0.10.2)\n",
            "Requirement already satisfied: patsy>=0.4.1 in /usr/local/lib/python3.7/dist-packages (from plotnine->bsuite==0.3.5->-r dm-haiku/examples/requirements.txt (line 1)) (0.5.2)\n",
            "Requirement already satisfied: palettable in /usr/local/lib/python3.7/dist-packages (from mizani>=0.6.0->plotnine->bsuite==0.3.5->-r dm-haiku/examples/requirements.txt (line 1)) (3.3.0)\n",
            "Requirement already satisfied: pillow!=7.1.0,!=7.1.1,>=4.3.0 in /usr/local/lib/python3.7/dist-packages (from scikit-image->bsuite==0.3.5->-r dm-haiku/examples/requirements.txt (line 1)) (7.1.2)\n",
            "Requirement already satisfied: tifffile>=2019.7.26 in /usr/local/lib/python3.7/dist-packages (from scikit-image->bsuite==0.3.5->-r dm-haiku/examples/requirements.txt (line 1)) (2021.11.2)\n",
            "Requirement already satisfied: imageio>=2.3.0 in /usr/local/lib/python3.7/dist-packages (from scikit-image->bsuite==0.3.5->-r dm-haiku/examples/requirements.txt (line 1)) (2.4.1)\n",
            "Requirement already satisfied: networkx>=2.0 in /usr/local/lib/python3.7/dist-packages (from scikit-image->bsuite==0.3.5->-r dm-haiku/examples/requirements.txt (line 1)) (2.6.3)\n",
            "Requirement already satisfied: PyWavelets>=1.1.1 in /usr/local/lib/python3.7/dist-packages (from scikit-image->bsuite==0.3.5->-r dm-haiku/examples/requirements.txt (line 1)) (1.2.0)\n",
            "Requirement already satisfied: googleapis-common-protos<2,>=1.52.0 in /usr/local/lib/python3.7/dist-packages (from tensorflow-metadata->tensorflow-datasets>=4.2.0->-r dm-haiku/examples/requirements.txt (line 7)) (1.54.0)\n",
            "Building wheels for collected packages: bsuite, optax, rlax, jax\n",
            "  Building wheel for bsuite (setup.py) ... \u001b[?25l\u001b[?25hdone\n",
            "  Created wheel for bsuite: filename=bsuite-0.3.5-py3-none-any.whl size=250321 sha256=2b15d4967f59b03770c62298921401597db9c5010538f1df45f89fd38e2a0cde\n",
            "  Stored in directory: /tmp/pip-ephem-wheel-cache-e_epw28z/wheels/8e/cd/02/51ff02c07cffd573fb0a0095e53898313e70ebdc541e351d99\n",
            "  Building wheel for optax (setup.py) ... \u001b[?25l\u001b[?25hdone\n",
            "  Created wheel for optax: filename=optax-0.1.1-py3-none-any.whl size=136407 sha256=60040d716481e97d9f7b21a37a3e850909e8630a31e5b62c82f87ec5691993ea\n",
            "  Stored in directory: /tmp/pip-ephem-wheel-cache-e_epw28z/wheels/99/a8/ea/844576cb39aaa6929daf91bd459d92d5d2e0c52abcc31d5b8c\n",
            "  Building wheel for rlax (setup.py) ... \u001b[?25l\u001b[?25hdone\n",
            "  Created wheel for rlax: filename=rlax-0.1.1-py3-none-any.whl size=117564 sha256=d0f5efd51aa0fd2c1256b6f6f3161030823449fe238b8918ee1cca96926d6441\n",
            "  Stored in directory: /tmp/pip-ephem-wheel-cache-e_epw28z/wheels/e8/39/c2/aaadc821fd338957de135c0b4a068a698bdbc49cb7f0c2257a\n",
            "  Building wheel for jax (setup.py) ... \u001b[?25l\u001b[?25hdone\n",
            "  Created wheel for jax: filename=jax-0.2.21-py3-none-any.whl size=869303 sha256=a1569f8d0c5d9e707cad177e13104e10ddaac17c13a067ab4175d7a336ab3b70\n",
            "  Stored in directory: /root/.cache/pip/wheels/5c/69/0d/3784dd6d281be0837d8cef1db0c8b37d108c8bff727b961178\n",
            "Successfully built bsuite optax rlax jax\n",
            "Installing collected packages: jax, chex, immutabledict, dm-env, distrax, tensorflow-datasets, rlax, optax, bsuite\n",
            "  Attempting uninstall: jax\n",
            "    Found existing installation: jax 0.2.25\n",
            "    Uninstalling jax-0.2.25:\n",
            "      Successfully uninstalled jax-0.2.25\n",
            "  Attempting uninstall: tensorflow-datasets\n",
            "    Found existing installation: tensorflow-datasets 4.0.1\n",
            "    Uninstalling tensorflow-datasets-4.0.1:\n",
            "      Successfully uninstalled tensorflow-datasets-4.0.1\n",
            "Successfully installed bsuite-0.3.5 chex-0.1.0 distrax-0.1.0 dm-env-1.5 immutabledict-2.2.1 jax-0.2.21 optax-0.1.1 rlax-0.1.1 tensorflow-datasets-4.5.2\n"
          ]
        }
      ]
    },
    {
      "cell_type": "code",
      "source": [
        "!cd dm-haiku\n",
        "!python dm-haiku/examples/mnist.py"
      ],
      "metadata": {
        "colab": {
          "base_uri": "https://localhost:8080/"
        },
        "id": "6cyDkMke33pY",
        "outputId": "af833d33-36b9-415b-e44c-22e754e3e596"
      },
      "execution_count": 5,
      "outputs": [
        {
          "output_type": "stream",
          "name": "stdout",
          "text": [
            "Traceback (most recent call last):\n",
            "  File \"<frozen importlib._bootstrap>\", line 1035, in _handle_fromlist\n",
            "  File \"<frozen importlib._bootstrap>\", line 219, in _call_with_frames_removed\n",
            "  File \"/usr/local/lib/python3.7/dist-packages/tensorflow/python/ops/ragged/ragged_gather_ops.py\", line 28, in <module>\n",
            "    from tensorflow.python.ops.ragged import ragged_array_ops\n",
            "  File \"/usr/local/lib/python3.7/dist-packages/tensorflow/python/ops/ragged/ragged_array_ops.py\", line 511, in <module>\n",
            "    @dispatch.dispatch_for_api(array_ops.rank)\n",
            "  File \"/usr/local/lib/python3.7/dist-packages/tensorflow/python/util/dispatch.py\", line 351, in dispatch_for_api\n",
            "    api_signature = tf_inspect.signature(api)\n",
            "  File \"/usr/local/lib/python3.7/dist-packages/tensorflow/python/util/tf_inspect.py\", line 36, in signature\n",
            "    tf_decorator.unwrap(obj)[1], follow_wrapped=follow_wrapped)\n",
            "  File \"/usr/lib/python3.7/inspect.py\", line 3083, in signature\n",
            "    return Signature.from_callable(obj, follow_wrapped=follow_wrapped)\n",
            "  File \"/usr/lib/python3.7/inspect.py\", line 2833, in from_callable\n",
            "    follow_wrapper_chains=follow_wrapped)\n",
            "  File \"/usr/lib/python3.7/inspect.py\", line 2284, in _signature_from_callable\n",
            "    return _signature_from_function(sigcls, obj)\n",
            "  File \"/usr/lib/python3.7/inspect.py\", line 2161, in _signature_from_function\n",
            "    default=defaults[offset]))\n",
            "  File \"/usr/lib/python3.7/inspect.py\", line 2477, in __init__\n",
            "    self._default = default\n",
            "KeyboardInterrupt\n",
            "\n",
            "During handling of the above exception, another exception occurred:\n",
            "\n",
            "Traceback (most recent call last):\n",
            "  File \"dm-haiku/examples/mnist.py\", line 25, in <module>\n",
            "    import tensorflow_datasets as tfds\n",
            "  File \"/usr/local/lib/python3.7/dist-packages/tensorflow_datasets/__init__.py\", line 43, in <module>\n",
            "    from tensorflow_datasets.core import tf_compat\n",
            "  File \"/usr/local/lib/python3.7/dist-packages/tensorflow_datasets/core/__init__.py\", line 22, in <module>\n",
            "    tf_compat.ensure_tf_install()\n",
            "  File \"/usr/local/lib/python3.7/dist-packages/tensorflow_datasets/core/tf_compat.py\", line 48, in ensure_tf_install\n",
            "    import tensorflow as tf  # pylint: disable=import-outside-toplevel\n",
            "  File \"/usr/local/lib/python3.7/dist-packages/tensorflow/__init__.py\", line 41, in <module>\n",
            "    from tensorflow.python.tools import module_util as _module_util\n",
            "  File \"/usr/local/lib/python3.7/dist-packages/tensorflow/python/__init__.py\", line 49, in <module>\n",
            "    from tensorflow.python.feature_column import feature_column_lib as feature_column\n",
            "  File \"/usr/local/lib/python3.7/dist-packages/tensorflow/python/feature_column/feature_column_lib.py\", line 22, in <module>\n",
            "    from tensorflow.python.feature_column.feature_column import *\n",
            "  File \"/usr/local/lib/python3.7/dist-packages/tensorflow/python/feature_column/feature_column.py\", line 147, in <module>\n",
            "    from tensorflow.python.layers import base\n",
            "  File \"/usr/local/lib/python3.7/dist-packages/tensorflow/python/layers/base.py\", line 20, in <module>\n",
            "    from tensorflow.python.keras.legacy_tf_layers import base\n",
            "  File \"/usr/local/lib/python3.7/dist-packages/tensorflow/python/keras/__init__.py\", line 25, in <module>\n",
            "    from tensorflow.python.keras import models\n",
            "  File \"/usr/local/lib/python3.7/dist-packages/tensorflow/python/keras/models.py\", line 19, in <module>\n",
            "    from tensorflow.python.keras import backend\n",
            "  File \"/usr/local/lib/python3.7/dist-packages/tensorflow/python/keras/backend.py\", line 51, in <module>\n",
            "    from tensorflow.python.keras.engine import keras_tensor\n",
            "  File \"/usr/local/lib/python3.7/dist-packages/tensorflow/python/keras/engine/keras_tensor.py\", line 26, in <module>\n",
            "    from tensorflow.python.ops.ragged import ragged_operators  # pylint: disable=unused-import\n",
            "  File \"/usr/local/lib/python3.7/dist-packages/tensorflow/python/ops/ragged/ragged_operators.py\", line 23, in <module>\n",
            "    from tensorflow.python.ops.ragged import ragged_getitem\n",
            "  File \"/usr/local/lib/python3.7/dist-packages/tensorflow/python/ops/ragged/ragged_getitem.py\", line 30, in <module>\n",
            "    from tensorflow.python.ops.ragged import ragged_gather_ops\n",
            "  File \"<frozen importlib._bootstrap>\", line 1035, in _handle_fromlist\n",
            "KeyboardInterrupt\n"
          ]
        }
      ]
    },
    {
      "cell_type": "markdown",
      "source": [
        "# Notes on header\n",
        "\n",
        "## The theory of type hints:\n",
        "https://www.python.org/dev/peps/pep-0483/\n",
        "\n",
        "## Abseil\n",
        "https://abseil.io/docs/python/guides/app\n",
        "Abseil is an open source C++ library written by Google\n",
        "It contains boilerplate, production ready API's that \n",
        "with heavy internal use, open sourced to support\n",
        "Google's open source interest.\n",
        "\n",
        "\n",
        "## Haiku\n",
        "Haiku is Sonnet for JAX\n",
        "\n"
      ],
      "metadata": {
        "id": "O8SR3ESEDmko"
      }
    },
    {
      "cell_type": "code",
      "source": [
        "\n",
        "from typing import Generator, Mapping, Tuple\n",
        "\n",
        "from absl import app\n",
        "import haiku as hk\n",
        "import jax\n",
        "import jax.numpy as jnp\n",
        "import numpy as np\n",
        "import optax\n",
        "import tensorflow_datasets as tfds\n"
      ],
      "metadata": {
        "id": "j65Jx2cL4PTo"
      },
      "execution_count": 9,
      "outputs": []
    },
    {
      "cell_type": "markdown",
      "source": [
        "Batch, Mapping: This is making use of generics from the typing library. More here: https://medium.com/@steveYeah/using-generics-in-python-99010e5056eb"
      ],
      "metadata": {
        "id": "dIeI2x7TFJSO"
      }
    },
    {
      "cell_type": "code",
      "source": [
        "Batch = Mapping[str, np.ndarray]\n"
      ],
      "metadata": {
        "id": "1JYwbhYXD0Dy"
      },
      "execution_count": 8,
      "outputs": []
    },
    {
      "cell_type": "markdown",
      "source": [
        ""
      ],
      "metadata": {
        "id": "HazcBcyvDymb"
      }
    },
    {
      "cell_type": "code",
      "source": [
        ""
      ],
      "metadata": {
        "id": "yG2fsPOMFPnK"
      },
      "execution_count": null,
      "outputs": []
    }
  ]
}